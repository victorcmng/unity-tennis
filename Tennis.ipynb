{
 "cells": [
  {
   "cell_type": "markdown",
   "metadata": {},
   "source": [
    "# Collaboration and Competition\n",
    "\n",
    "---\n",
    "\n",
    "In this notebook, you will learn how to use the Unity ML-Agents environment for the third project of the [Deep Reinforcement Learning Nanodegree](https://www.udacity.com/course/deep-reinforcement-learning-nanodegree--nd893) program.\n",
    "\n",
    "### 1. Start the Environment\n",
    "\n",
    "We begin by importing the necessary packages.  If the code cell below returns an error, please revisit the project instructions to double-check that you have installed [Unity ML-Agents](https://github.com/Unity-Technologies/ml-agents/blob/master/docs/Installation.md) and [NumPy](http://www.numpy.org/)."
   ]
  },
  {
   "cell_type": "code",
   "execution_count": 1,
   "metadata": {},
   "outputs": [],
   "source": [
    "from unityagents import UnityEnvironment\n",
    "\n",
    "import numpy as np\n",
    "import random\n",
    "from collections import deque\n",
    "import torch\n",
    "\n",
    "import matplotlib.pyplot as plt\n",
    "%matplotlib inline"
   ]
  },
  {
   "cell_type": "markdown",
   "metadata": {},
   "source": [
    "Next, we will start the environment!  **_Before running the code cell below_**, change the `file_name` parameter to match the location of the Unity environment that you downloaded.\n",
    "\n",
    "- **Mac**: `\"path/to/Tennis.app\"`\n",
    "- **Windows** (x86): `\"path/to/Tennis_Windows_x86/Tennis.exe\"`\n",
    "- **Windows** (x86_64): `\"path/to/Tennis_Windows_x86_64/Tennis.exe\"`\n",
    "- **Linux** (x86): `\"path/to/Tennis_Linux/Tennis.x86\"`\n",
    "- **Linux** (x86_64): `\"path/to/Tennis_Linux/Tennis.x86_64\"`\n",
    "- **Linux** (x86, headless): `\"path/to/Tennis_Linux_NoVis/Tennis.x86\"`\n",
    "- **Linux** (x86_64, headless): `\"path/to/Tennis_Linux_NoVis/Tennis.x86_64\"`\n",
    "\n",
    "For instance, if you are using a Mac, then you downloaded `Tennis.app`.  If this file is in the same folder as the notebook, then the line below should appear as follows:\n",
    "```\n",
    "env = UnityEnvironment(file_name=\"Tennis.app\")\n",
    "```"
   ]
  },
  {
   "cell_type": "code",
   "execution_count": 2,
   "metadata": {},
   "outputs": [
    {
     "name": "stderr",
     "output_type": "stream",
     "text": [
      "INFO:unityagents:\n",
      "'Academy' started successfully!\n",
      "Unity Academy name: Academy\n",
      "        Number of Brains: 1\n",
      "        Number of External Brains : 1\n",
      "        Lesson number : 0\n",
      "        Reset Parameters :\n",
      "\t\t\n",
      "Unity brain name: TennisBrain\n",
      "        Number of Visual Observations (per agent): 0\n",
      "        Vector Observation space type: continuous\n",
      "        Vector Observation space size (per agent): 8\n",
      "        Number of stacked Vector Observation: 3\n",
      "        Vector Action space type: continuous\n",
      "        Vector Action space size (per agent): 2\n",
      "        Vector Action descriptions: , \n"
     ]
    }
   ],
   "source": [
    "env = UnityEnvironment(file_name=\"Tennis.app\")"
   ]
  },
  {
   "cell_type": "markdown",
   "metadata": {},
   "source": [
    "Environments contain **_brains_** which are responsible for deciding the actions of their associated agents. Here we check for the first brain available, and set it as the default brain we will be controlling from Python."
   ]
  },
  {
   "cell_type": "code",
   "execution_count": 3,
   "metadata": {},
   "outputs": [],
   "source": [
    "# get the default brain\n",
    "brain_name = env.brain_names[0]\n",
    "brain = env.brains[brain_name]"
   ]
  },
  {
   "cell_type": "markdown",
   "metadata": {},
   "source": [
    "### 2. Examine the State and Action Spaces\n",
    "\n",
    "In this environment, two agents control rackets to bounce a ball over a net. If an agent hits the ball over the net, it receives a reward of +0.1.  If an agent lets a ball hit the ground or hits the ball out of bounds, it receives a reward of -0.01.  Thus, the goal of each agent is to keep the ball in play.\n",
    "\n",
    "The observation space consists of 8 variables corresponding to the position and velocity of the ball and racket. Two continuous actions are available, corresponding to movement toward (or away from) the net, and jumping. \n",
    "\n",
    "Run the code cell below to print some information about the environment."
   ]
  },
  {
   "cell_type": "code",
   "execution_count": 4,
   "metadata": {},
   "outputs": [
    {
     "name": "stdout",
     "output_type": "stream",
     "text": [
      "Number of agents: 2\n",
      "Size of each action: 2\n",
      "There are 2 agents. Each observes a state with length: 24\n",
      "The state for the first agent looks like: [ 0.          0.          0.          0.          0.          0.\n",
      "  0.          0.          0.          0.          0.          0.\n",
      "  0.          0.          0.          0.         -6.65278625 -1.5\n",
      " -0.          0.          6.83172083  6.         -0.          0.        ]\n"
     ]
    }
   ],
   "source": [
    "# reset the environment\n",
    "env_info = env.reset(train_mode=True)[brain_name]\n",
    "\n",
    "# number of agents \n",
    "num_agents = len(env_info.agents)\n",
    "print('Number of agents:', num_agents)\n",
    "\n",
    "# size of each action\n",
    "action_size = brain.vector_action_space_size\n",
    "print('Size of each action:', action_size)\n",
    "\n",
    "# examine the state space \n",
    "states = env_info.vector_observations\n",
    "state_size = states.shape[1]\n",
    "print('There are {} agents. Each observes a state with length: {}'.format(states.shape[0], state_size))\n",
    "print('The state for the first agent looks like:', states[0])"
   ]
  },
  {
   "cell_type": "markdown",
   "metadata": {},
   "source": [
    "### 3. Train the Agent"
   ]
  },
  {
   "cell_type": "code",
   "execution_count": 5,
   "metadata": {},
   "outputs": [],
   "source": [
    "def ddpg_train(agent1,agent2):\n",
    "    \n",
    "    scores1 = []\n",
    "    scores2 = []\n",
    "    mean_scores = []\n",
    "    max_score = -np.Inf\n",
    "\n",
    "    n_episodes = 4000\n",
    "\n",
    "    for episode in range(0, n_episodes+1):\n",
    "        env_info = env.reset(train_mode=True)[brain_name]            # reset the environment\n",
    "        state = env_info.vector_observations\n",
    "        agent1.reset()                                                # reset the agent noise\n",
    "        agent2.reset()\n",
    "        score1 = 0\n",
    "        score2 = 0\n",
    "        \n",
    "        while True:\n",
    "            \n",
    "            state1 = np.concatenate([state[0], [1]]).reshape((1,state.shape[1]+1))\n",
    "            state2 = np.concatenate([state[1], [-1]]).reshape((1,state.shape[1]+1))\n",
    "            \n",
    "            action1 = agent1.act(state1)\n",
    "            action2 = agent2.act(state2)\n",
    "            \n",
    "            env_info = env.step([action1, action2])[brain_name]      # send the action to the environment                            \n",
    "            next_state = env_info.vector_observations                # get the next state        \n",
    "            reward = env_info.rewards                                # get the reward        \n",
    "            done = env_info.local_done                               # see if episode has finished        \n",
    "\n",
    "            next_state1 = np.concatenate([next_state[0], [1]])\n",
    "            next_state2 = np.concatenate([next_state[1], [-1]])\n",
    "            \n",
    "            agent1.step(state1, action1, np.mean(reward), next_state1, done[0]) # update the score\n",
    "            agent2.step(state2, action2, np.mean(reward), next_state2, done[1])\n",
    "            \n",
    "            state = next_state                                     # roll over the state to next time step  \n",
    "\n",
    "            score1 += reward[0]\n",
    "            score2 += reward[1]\n",
    "                  \n",
    "            if np.any(done):                                      # exit loop if episode finished        \n",
    "                break                                        \n",
    "\n",
    "        scores1.append(score1)\n",
    "        scores2.append(score2)\n",
    "        mean_scores.append(np.mean([score1, score2]))\n",
    "        \n",
    "        mean1 = np.mean(scores1[-100:])\n",
    "        mean2 = np.mean(scores2[-100:])\n",
    "        mean_score = np.mean(mean_scores[-100:])\n",
    "        \n",
    "        if episode % 100 ==0:\n",
    "            print('Episode {}\\t Agent 1 Mean Score: {:.4f}, Agent 2 Mean Score: {:.4f}, Overall Mean Score: {:.4f}'.format(\n",
    "            episode, mean1, mean2, mean_score))\n",
    "        \n",
    "        if np.mean([score1, score2]) > max_score:\n",
    "            max_score = np.mean([score1, score2])\n",
    "            torch.save(agent1.actor_local.state_dict(), 'checkpoint_actor_1.pth')\n",
    "            torch.save(agent1.critic_local.state_dict(), 'checkpoint_critic_1.pth')\n",
    "            torch.save(agent2.actor_local.state_dict(), 'checkpoint_actor_2.pth')\n",
    "            torch.save(agent2.critic_local.state_dict(), 'checkpoint_critic_2.pth')\n",
    "            \n",
    "        if mean_score >= 0.5:\n",
    "            print('\\nEnvironment solved in {:d} episodes!\\t\\tAverage Score: {:.4f}'.format(episode-100, mean_score))\n",
    "            break\n",
    "\n",
    "    return mean_scores"
   ]
  },
  {
   "cell_type": "code",
   "execution_count": 6,
   "metadata": {
    "scrolled": false
   },
   "outputs": [
    {
     "name": "stdout",
     "output_type": "stream",
     "text": [
      "Episode 0\t Agent 1 Mean Score: 0.0000, Agent 2 Mean Score: -0.0100, Overall Mean Score: -0.0050\n",
      "Episode 100\t Agent 1 Mean Score: 0.0206, Agent 2 Mean Score: 0.0254, Overall Mean Score: 0.0230\n",
      "Episode 200\t Agent 1 Mean Score: 0.1562, Agent 2 Mean Score: 0.1548, Overall Mean Score: 0.1555\n",
      "Episode 300\t Agent 1 Mean Score: 0.3019, Agent 2 Mean Score: 0.2981, Overall Mean Score: 0.3000\n",
      "Episode 400\t Agent 1 Mean Score: 0.2795, Agent 2 Mean Score: 0.2744, Overall Mean Score: 0.2770\n",
      "Episode 500\t Agent 1 Mean Score: 0.3032, Agent 2 Mean Score: 0.3096, Overall Mean Score: 0.3064\n",
      "Episode 600\t Agent 1 Mean Score: 0.4479, Agent 2 Mean Score: 0.4483, Overall Mean Score: 0.4481\n",
      "\n",
      "Environment solved in 520 episodes!\t\tAverage Score: 0.5117\n"
     ]
    },
    {
     "data": {
      "image/png": "[encoded data removed]",
      "text/plain": [
       "<Figure size 432x288 with 1 Axes>"
      ]
     },
     "metadata": {
      "needs_background": "light"
     },
     "output_type": "display_data"
    }
   ],
   "source": [
    "from maddpg_agent import Agent\n",
    "\n",
    "device = torch.device(\"cuda:0\" if torch.cuda.is_available() else \"cpu\")\n",
    "\n",
    "RANDOM_SEED=2020\n",
    "BUFFER_SIZE=int(1e5)  # replay buffer size\n",
    "BATCH_SIZE=128        # minibatch size\n",
    "GAMMA=0.99            # discount factor\n",
    "TAU=1e-2              # for soft update of target parameters\n",
    "FC1_UNITS_ACTOR=256   # output dim of first FC layer of actor\n",
    "FC2_UNITS_ACTOR=256   # output dim of second FC layer of actor\n",
    "FCS1_UNITS_CRITIC=256 # output dim of first FC layer of critic\n",
    "FC2_UNITS_CRITIC=256  # output dim of second FC layer of critic\n",
    "LR_ACTOR=1e-3         # learning rate of the actor \n",
    "LR_CRITIC=1e-3        # learning rate of the critic\n",
    "WEIGHT_DECAY=0        # L2 weight decay\n",
    "\n",
    "\n",
    "agent1 = Agent(device, num_agents, state_size+1, action_size, random_seed=RANDOM_SEED, buffer_size=BUFFER_SIZE,\n",
    "               batch_size=BATCH_SIZE, gamma=GAMMA, tau=TAU, fc1_units_actor=FC1_UNITS_ACTOR, fc2_units_actor=FC2_UNITS_ACTOR,\n",
    "               fcs1_units_critic=FCS1_UNITS_CRITIC, fc2_units_critic=FC2_UNITS_CRITIC, lr_actor=LR_ACTOR, lr_critic=LR_CRITIC,\n",
    "               weight_decay=WEIGHT_DECAY, update_local=1, n_updates=1)       \n",
    "\n",
    "agent2 = Agent(device, num_agents, state_size+1, action_size, random_seed=RANDOM_SEED, buffer_size=BUFFER_SIZE,\n",
    "               batch_size=BATCH_SIZE, gamma=GAMMA, tau=TAU, fc1_units_actor=FC1_UNITS_ACTOR, fc2_units_actor=FC2_UNITS_ACTOR,\n",
    "               fcs1_units_critic=FCS1_UNITS_CRITIC, fc2_units_critic=FC2_UNITS_CRITIC, lr_actor=LR_ACTOR, lr_critic=LR_CRITIC,\n",
    "               weight_decay=WEIGHT_DECAY, update_local=1, n_updates=1)    \n",
    "\n",
    "# Update agent2 param to be same as agent1\n",
    "agent2.actor_local = agent1.actor_local\n",
    "agent2.actor_target = agent1.actor_target\n",
    "agent2.actor_optimizer = agent1.actor_optimizer\n",
    "\n",
    "agent2.critic_local = agent1.critic_local\n",
    "agent2.critic_target = agent1.critic_target\n",
    "agent2.critic_optimizer = agent1.critic_optimizer\n",
    "\n",
    "agent2.memory = agent1.memory\n",
    "\n",
    "# train the agent\n",
    "scores = ddpg_train(agent1, agent2)\n",
    "\n",
    "# plot scores\n",
    "plt.plot(np.arange(1, len(scores)+1), scores, label='score')\n",
    "plt.ylabel('Score')\n",
    "plt.xlabel('Episode #')\n",
    "plt.legend()\n",
    "plt.show()    "
   ]
  },
  {
   "cell_type": "markdown",
   "metadata": {},
   "source": [
    "When finished, you can close the environment."
   ]
  },
  {
   "cell_type": "markdown",
   "metadata": {},
   "source": [
    "### 4. Watch a Trained Agent"
   ]
  },
  {
   "cell_type": "code",
   "execution_count": 7,
   "metadata": {},
   "outputs": [
    {
     "name": "stdout",
     "output_type": "stream",
     "text": [
      "Total score (averaged over agents) this episode: 0.5450000083073974\n"
     ]
    }
   ],
   "source": [
    "agent1.actor_local.load_state_dict(torch.load('checkpoint_actor_1.pth'))\n",
    "agent1.critic_local.load_state_dict(torch.load('checkpoint_critic_1.pth'))\n",
    "agent2.actor_local.load_state_dict(torch.load('checkpoint_actor_2.pth'))\n",
    "agent2.critic_local.load_state_dict(torch.load('checkpoint_critic_2.pth'))\n",
    "\n",
    "\n",
    "env_info = env.reset(train_mode=False)[brain_name]     # reset the environment    \n",
    "state = env_info.vector_observations                  # get the current state (for each agent)\n",
    "\n",
    "score1 = 0\n",
    "score2 = 0\n",
    "\n",
    "while True:\n",
    "    state1 = np.concatenate([state[0], [1]]).reshape((1,state.shape[1]+1))\n",
    "    state2 = np.concatenate([state[1], [-1]]).reshape((1,state.shape[1]+1))\n",
    "            \n",
    "    action1 = agent1.act(state1)\n",
    "    action2 = agent2.act(state2)\n",
    "    \n",
    "    env_info = env.step([action1, action2])[brain_name]    # send all actions to tne environment\n",
    "    next_state = env_info.vector_observations         # get next state (for each agent)\n",
    "    reward = env_info.rewards                         # get reward (for each agent)\n",
    "    done = env_info.local_done                        # see if episode finished\n",
    "    \n",
    "    next_state1 = np.concatenate([next_state[0], [1]])\n",
    "    next_state2 = np.concatenate([next_state[1], [-1]])\n",
    "\n",
    "    agent1.step(state1, action1, np.mean(reward), next_state1, done[0]) # update the score\n",
    "    agent2.step(state2, action2, np.mean(reward), next_state2, done[1])\n",
    "    \n",
    "    state = next_state                                     # roll over the state to next time step  \n",
    "\n",
    "    score1 += reward[0]\n",
    "    score2 += reward[1]\n",
    "    \n",
    "    if np.any(done):                                  # exit loop if episode finished\n",
    "        break\n",
    "        \n",
    "print('Total score (averaged over agents) this episode: {}'.format(np.mean([score1, score2])))"
   ]
  },
  {
   "cell_type": "code",
   "execution_count": 8,
   "metadata": {},
   "outputs": [],
   "source": [
    "env.close()"
   ]
  }
 ],
 "metadata": {
  "kernelspec": {
   "display_name": "drlnd",
   "language": "python",
   "name": "drlnd"
  },
  "language_info": {
   "codemirror_mode": {
    "name": "ipython",
    "version": 3
   },
   "file_extension": ".py",
   "mimetype": "text/x-python",
   "name": "python",
   "nbconvert_exporter": "python",
   "pygments_lexer": "ipython3",
   "version": "3.6.12"
  }
 },
 "nbformat": 4,
 "nbformat_minor": 2
}
